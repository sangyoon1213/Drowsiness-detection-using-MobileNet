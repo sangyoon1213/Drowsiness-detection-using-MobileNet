{
 "cells": [
  {
   "cell_type": "markdown",
   "metadata": {
    "papermill": {
     "duration": 0.087869,
     "end_time": "2021-01-06T14:47:23.137660",
     "exception": false,
     "start_time": "2021-01-06T14:47:23.049791",
     "status": "completed"
    },
    "tags": []
   },
   "source": [
    "# Drowsiness Detection using EEG Sensor Data\n"
   ]
  },
  {
   "cell_type": "markdown",
   "metadata": {
    "papermill": {
     "duration": 0.065466,
     "end_time": "2020-11-30T07:38:51.578836",
     "exception": false,
     "start_time": "2020-11-30T07:38:51.513370",
     "status": "completed"
    },
    "tags": []
   },
   "source": [
    "# Importing Libraries"
   ]
  },
  {
   "cell_type": "code",
   "execution_count": null,
   "metadata": {
    "colab": {},
    "colab_type": "code",
    "id": "-E4TvIVLMa73",
    "scrolled": true
   },
   "outputs": [],
   "source": [
    "import numpy as np \n",
    "import pandas as pd \n",
    "import seaborn as sns \n",
    "import matplotlib.pyplot as plt\n",
    "plt.style.use('ggplot')\n",
    "from sklearn.model_selection import train_test_split\n",
    "from keras.models import Model\n",
    "from sklearn.preprocessing import MinMaxScaler\n",
    "from keras.layers import LSTM, Activation, Dense, Dropout, Input, Conv1D, Embedding\n",
    "from tensorflow.keras.optimizers import RMSprop\n",
    "from keras.preprocessing import sequence\n",
    "from keras.models import Sequential\n",
    "from sklearn.metrics import f1_score\n",
    "from keras.layers import Conv1D, GlobalMaxPooling1D\n",
    "from tensorflow.keras.models import Sequential\n",
    "from tensorflow.keras.layers import Dense,Flatten,Conv1D,BatchNormalization,Dropout\n",
    "from prettytable import PrettyTable\n",
    "from sklearn.feature_selection import chi2\n",
    "from sklearn.tree import DecisionTreeClassifier\n",
    "from sklearn.svm import LinearSVC\n",
    "from keras.preprocessing.text import Tokenizer\n",
    "from sklearn.feature_selection import f_classif\n",
    "from sklearn.ensemble import ExtraTreesClassifier \n",
    "from sklearn.feature_selection import SelectKBest\n",
    "from mlxtend.plotting import plot_confusion_matrix\n",
    "from sklearn.model_selection import train_test_split\n",
    "from sklearn.feature_selection import SelectFromModel\n",
    "from sklearn.feature_selection import mutual_info_classif\n",
    "\n",
    "import warnings\n",
    "warnings.filterwarnings(\"ignore\")"
   ]
  },
  {
   "cell_type": "markdown",
   "metadata": {
    "papermill": {
     "duration": 0.065466,
     "end_time": "2020-11-30T07:38:51.578836",
     "exception": false,
     "start_time": "2020-11-30T07:38:51.513370",
     "status": "completed"
    },
    "tags": []
   },
   "source": [
    "# Loading the data"
   ]
  },
  {
   "cell_type": "code",
   "execution_count": null,
   "metadata": {},
   "outputs": [],
   "source": [
    "data = pd.read_csv(\"Dataset_EEG.csv\")"
   ]
  },
  {
   "cell_type": "markdown",
   "metadata": {},
   "source": [
    "#### Five top records of data"
   ]
  },
  {
   "cell_type": "code",
   "execution_count": null,
   "metadata": {},
   "outputs": [],
   "source": [
    "data.head()"
   ]
  },
  {
   "cell_type": "markdown",
   "metadata": {},
   "source": [
    "#### Five last records of data"
   ]
  },
  {
   "cell_type": "code",
   "execution_count": null,
   "metadata": {},
   "outputs": [],
   "source": [
    "data.tail()"
   ]
  },
  {
   "cell_type": "markdown",
   "metadata": {},
   "source": [
    "#### Coloumns/features in data"
   ]
  },
  {
   "cell_type": "code",
   "execution_count": null,
   "metadata": {},
   "outputs": [],
   "source": [
    "data.columns"
   ]
  },
  {
   "cell_type": "markdown",
   "metadata": {},
   "source": [
    "#### Length of data"
   ]
  },
  {
   "cell_type": "code",
   "execution_count": null,
   "metadata": {},
   "outputs": [],
   "source": [
    "print('lenght of data is', len(data))"
   ]
  },
  {
   "cell_type": "markdown",
   "metadata": {},
   "source": [
    "#### Shape of data"
   ]
  },
  {
   "cell_type": "code",
   "execution_count": null,
   "metadata": {},
   "outputs": [],
   "source": [
    "data.shape"
   ]
  },
  {
   "cell_type": "markdown",
   "metadata": {},
   "source": [
    "#### Data information"
   ]
  },
  {
   "cell_type": "code",
   "execution_count": null,
   "metadata": {
    "scrolled": false
   },
   "outputs": [],
   "source": [
    "data.info()"
   ]
  },
  {
   "cell_type": "markdown",
   "metadata": {},
   "source": [
    "#### Data types of all coloumns"
   ]
  },
  {
   "cell_type": "code",
   "execution_count": null,
   "metadata": {},
   "outputs": [],
   "source": [
    "data.dtypes"
   ]
  },
  {
   "cell_type": "markdown",
   "metadata": {},
   "source": [
    "#### Checking Null values / missing values"
   ]
  },
  {
   "cell_type": "code",
   "execution_count": null,
   "metadata": {
    "scrolled": true
   },
   "outputs": [],
   "source": [
    "np.sum(data.isnull().any(axis=1))"
   ]
  },
  {
   "cell_type": "markdown",
   "metadata": {
    "papermill": {
     "duration": 0.084502,
     "end_time": "2021-01-17T08:01:58.552833",
     "exception": false,
     "start_time": "2021-01-17T08:01:58.468331",
     "status": "completed"
    },
    "tags": []
   },
   "source": [
    "#### Counts of missing values in each column"
   ]
  },
  {
   "cell_type": "code",
   "execution_count": null,
   "metadata": {
    "execution": {
     "iopub.execute_input": "2021-01-17T08:01:58.732761Z",
     "iopub.status.busy": "2021-01-17T08:01:58.732055Z",
     "iopub.status.idle": "2021-01-17T08:01:58.740352Z",
     "shell.execute_reply": "2021-01-17T08:01:58.740924Z"
    },
    "papermill": {
     "duration": 0.098959,
     "end_time": "2021-01-17T08:01:58.741074",
     "exception": false,
     "start_time": "2021-01-17T08:01:58.642115",
     "status": "completed"
    },
    "tags": []
   },
   "outputs": [],
   "source": [
    "data.isnull().sum()"
   ]
  },
  {
   "cell_type": "markdown",
   "metadata": {},
   "source": [
    "#### Rows and columns in the dataset"
   ]
  },
  {
   "cell_type": "code",
   "execution_count": null,
   "metadata": {},
   "outputs": [],
   "source": [
    "print('Count of columns in the data is:  ', len(data.columns))"
   ]
  },
  {
   "cell_type": "code",
   "execution_count": null,
   "metadata": {},
   "outputs": [],
   "source": [
    "print('Count of rows in the data is:  ', len(data))"
   ]
  },
  {
   "cell_type": "markdown",
   "metadata": {},
   "source": [
    "#### Data Description"
   ]
  },
  {
   "cell_type": "code",
   "execution_count": null,
   "metadata": {},
   "outputs": [],
   "source": [
    "data.describe()"
   ]
  },
  {
   "cell_type": "markdown",
   "metadata": {},
   "source": [
    "## Univariate Analysis "
   ]
  },
  {
   "cell_type": "markdown",
   "metadata": {},
   "source": [
    "#### Numeric features distrubution "
   ]
  },
  {
   "cell_type": "code",
   "execution_count": null,
   "metadata": {},
   "outputs": [],
   "source": [
    "data.hist(figsize=(20,20),bins = 20, color=\"#107009AA\")\n",
    "plt.title(\"Numeric Features Distribution\")\n",
    "a=data[data['label']==0]\n",
    "b=data[data['label']==1]\n",
    "data=pd.concat([a,b])\n",
    "plt.show()"
   ]
  },
  {
   "cell_type": "markdown",
   "metadata": {},
   "source": [
    "### As we can see above, there are the values ranges of all features. Every feature have different distribution of values. "
   ]
  },
  {
   "cell_type": "markdown",
   "metadata": {
    "papermill": {
     "duration": 0.065466,
     "end_time": "2020-11-30T07:38:51.578836",
     "exception": false,
     "start_time": "2020-11-30T07:38:51.513370",
     "status": "completed"
    },
    "tags": []
   },
   "source": [
    "# Data Preparation"
   ]
  },
  {
   "cell_type": "markdown",
   "metadata": {},
   "source": [
    "### Deleting the duplicate rows"
   ]
  },
  {
   "cell_type": "code",
   "execution_count": null,
   "metadata": {},
   "outputs": [],
   "source": [
    "current=len(data)\n",
    "print('Rows of data before Delecting ', current)"
   ]
  },
  {
   "cell_type": "code",
   "execution_count": null,
   "metadata": {},
   "outputs": [],
   "source": [
    "data=data.drop_duplicates()"
   ]
  },
  {
   "cell_type": "code",
   "execution_count": null,
   "metadata": {},
   "outputs": [],
   "source": [
    "now=len(data)\n",
    "print('Rows of data before Delecting ', now)"
   ]
  },
  {
   "cell_type": "code",
   "execution_count": null,
   "metadata": {},
   "outputs": [],
   "source": [
    "diff=current-now\n",
    "print('Duplicated rows deleted ', diff)"
   ]
  },
  {
   "cell_type": "markdown",
   "metadata": {
    "papermill": {
     "duration": 0.065466,
     "end_time": "2020-11-30T07:38:51.578836",
     "exception": false,
     "start_time": "2020-11-30T07:38:51.51337",
     "status": "completed"
    },
    "tags": []
   },
   "source": [
    "# Feature Selection"
   ]
  },
  {
   "cell_type": "markdown",
   "metadata": {},
   "source": [
    "### Univariate feature selection\n",
    "- using f_classif technique to extrcat the most useful features from the data"
   ]
  },
  {
   "cell_type": "code",
   "execution_count": null,
   "metadata": {
    "execution": {
     "iopub.execute_input": "2021-06-03T13:11:09.540566Z",
     "iopub.status.busy": "2021-06-03T13:11:09.540200Z",
     "iopub.status.idle": "2021-06-03T13:11:09.568726Z",
     "shell.execute_reply": "2021-06-03T13:11:09.567153Z",
     "shell.execute_reply.started": "2021-06-03T13:11:09.540523Z"
    }
   },
   "outputs": [],
   "source": [
    "d=data.head(1280)\n",
    "X=d.drop(columns=['label'])\n",
    "y=d['label']\n",
    "FCF_M= SelectKBest(f_classif, k=5)\n",
    "FCF_M.fit(X, y)\n",
    "FCF_features = FCF_M.transform(X)"
   ]
  },
  {
   "cell_type": "code",
   "execution_count": null,
   "metadata": {
    "execution": {
     "iopub.execute_input": "2021-06-03T13:11:10.453269Z",
     "iopub.status.busy": "2021-06-03T13:11:10.452691Z",
     "iopub.status.idle": "2021-06-03T13:11:10.480189Z",
     "shell.execute_reply": "2021-06-03T13:11:10.478591Z",
     "shell.execute_reply.started": "2021-06-03T13:11:10.453234Z"
    }
   },
   "outputs": [],
   "source": [
    "feature_names = list(X.columns[FCF_M.get_support(indices=True)])\n",
    "FCF_features=pd.DataFrame(FCF_features)\n",
    "FCF_features.columns=feature_names\n",
    "FCF_features.head()"
   ]
  },
  {
   "cell_type": "code",
   "execution_count": null,
   "metadata": {
    "execution": {
     "iopub.execute_input": "2021-06-03T13:11:10.965400Z",
     "iopub.status.busy": "2021-06-03T13:11:10.964861Z",
     "iopub.status.idle": "2021-06-03T13:11:10.991875Z",
     "shell.execute_reply": "2021-06-03T13:11:10.990398Z",
     "shell.execute_reply.started": "2021-06-03T13:11:10.965351Z"
    }
   },
   "outputs": [],
   "source": [
    "FCF_features=pd.DataFrame(FCF_features)\n",
    "FCF_features.shape[1]  #Features count"
   ]
  },
  {
   "cell_type": "markdown",
   "metadata": {},
   "source": [
    "### Univariate feature selection\n",
    "- using chi2 technique to extract the most useful features from the data"
   ]
  },
  {
   "cell_type": "code",
   "execution_count": null,
   "metadata": {
    "execution": {
     "iopub.execute_input": "2021-06-03T13:11:11.830919Z",
     "iopub.status.busy": "2021-06-03T13:11:11.830503Z",
     "iopub.status.idle": "2021-06-03T13:11:11.858465Z",
     "shell.execute_reply": "2021-06-03T13:11:11.857192Z",
     "shell.execute_reply.started": "2021-06-03T13:11:11.830884Z"
    }
   },
   "outputs": [],
   "source": [
    "C_M= SelectKBest(chi2, k=5)\n",
    "C_M.fit(X, y)\n",
    "C_features = C_M.transform(X)"
   ]
  },
  {
   "cell_type": "code",
   "execution_count": null,
   "metadata": {
    "execution": {
     "iopub.execute_input": "2021-06-03T13:11:12.255985Z",
     "iopub.status.busy": "2021-06-03T13:11:12.255442Z",
     "iopub.status.idle": "2021-06-03T13:11:12.283286Z",
     "shell.execute_reply": "2021-06-03T13:11:12.281773Z",
     "shell.execute_reply.started": "2021-06-03T13:11:12.255950Z"
    }
   },
   "outputs": [],
   "source": [
    "feature_names = list(X.columns[C_M.get_support(indices=True)])\n",
    "C_features=pd.DataFrame(C_features)\n",
    "C_features.columns=feature_names\n",
    "C_features.head()"
   ]
  },
  {
   "cell_type": "code",
   "execution_count": null,
   "metadata": {
    "execution": {
     "iopub.execute_input": "2021-06-03T13:11:12.523586Z",
     "iopub.status.busy": "2021-06-03T13:11:12.523213Z",
     "iopub.status.idle": "2021-06-03T13:11:12.549494Z",
     "shell.execute_reply": "2021-06-03T13:11:12.548294Z",
     "shell.execute_reply.started": "2021-06-03T13:11:12.523555Z"
    }
   },
   "outputs": [],
   "source": [
    "C_features=pd.DataFrame(C_features)\n",
    "C_features.shape[1]  #Features count"
   ]
  },
  {
   "cell_type": "markdown",
   "metadata": {},
   "source": [
    "### Feature selection using SelectFromModel\n",
    "- L1-based feature selection"
   ]
  },
  {
   "cell_type": "code",
   "execution_count": null,
   "metadata": {},
   "outputs": [],
   "source": [
    "L_svc = LinearSVC(C=0.01, penalty=\"l1\", dual=False).fit(X, y)\n",
    "L_svc = SelectFromModel(L_svc, prefit=True)\n",
    "L_svc_Features = L_svc.transform(X)"
   ]
  },
  {
   "cell_type": "code",
   "execution_count": null,
   "metadata": {},
   "outputs": [],
   "source": [
    "feature_names = list(X.columns[L_svc.get_support(indices=True)])\n",
    "L_svc_Features=pd.DataFrame(L_svc_Features)\n",
    "L_svc_Features.columns=feature_names\n",
    "L_svc_Features.head()"
   ]
  },
  {
   "cell_type": "code",
   "execution_count": null,
   "metadata": {},
   "outputs": [],
   "source": [
    "#These features are selected\n",
    "list(L_svc_Features.columns)"
   ]
  },
  {
   "cell_type": "code",
   "execution_count": null,
   "metadata": {},
   "outputs": [],
   "source": [
    "L_svc_Features.shape[1]  #Features count"
   ]
  },
  {
   "cell_type": "markdown",
   "metadata": {},
   "source": [
    "### Feature selection using SelectFromModel\n",
    "- Decision Tree-based feature selection"
   ]
  },
  {
   "cell_type": "code",
   "execution_count": null,
   "metadata": {},
   "outputs": [],
   "source": [
    "ETC_M = DecisionTreeClassifier()\n",
    "ETC_M.fit(X, y)\n",
    "ETC_M = SelectFromModel(ETC_M, prefit=True)\n",
    "ETC_M_Features = ETC_M.transform(X)"
   ]
  },
  {
   "cell_type": "code",
   "execution_count": null,
   "metadata": {},
   "outputs": [],
   "source": [
    "feature_names = list(X.columns[ETC_M.get_support(indices=True)])\n",
    "ETC_M_Features=pd.DataFrame(ETC_M_Features)\n",
    "ETC_M_Features.columns=feature_names\n",
    "ETC_M_Features.head()"
   ]
  },
  {
   "cell_type": "code",
   "execution_count": null,
   "metadata": {},
   "outputs": [],
   "source": [
    "#These features are selected\n",
    "list(ETC_M_Features.columns)"
   ]
  },
  {
   "cell_type": "code",
   "execution_count": null,
   "metadata": {},
   "outputs": [],
   "source": [
    "ETC_M_Features.shape[1]  #Features count"
   ]
  },
  {
   "cell_type": "markdown",
   "metadata": {},
   "source": [
    "- We are going to combine all the features that are selected using differenet techniques "
   ]
  },
  {
   "cell_type": "code",
   "execution_count": null,
   "metadata": {
    "execution": {
     "iopub.execute_input": "2021-06-03T13:11:14.361496Z",
     "iopub.status.busy": "2021-06-03T13:11:14.361120Z",
     "iopub.status.idle": "2021-06-03T13:11:14.389798Z",
     "shell.execute_reply": "2021-06-03T13:11:14.388504Z",
     "shell.execute_reply.started": "2021-06-03T13:11:14.361463Z"
    }
   },
   "outputs": [],
   "source": [
    "Hybrid_Features=pd.concat([FCF_features, C_features, L_svc_Features, ETC_M_Features], axis=1)\n",
    "#drop all those features \n",
    "Hybrid_Features1 = Hybrid_Features.loc[:,~Hybrid_Features.columns.duplicated()]"
   ]
  },
  {
   "cell_type": "code",
   "execution_count": null,
   "metadata": {
    "execution": {
     "iopub.execute_input": "2021-06-03T13:11:14.649234Z",
     "iopub.status.busy": "2021-06-03T13:11:14.648577Z",
     "iopub.status.idle": "2021-06-03T13:11:14.676870Z",
     "shell.execute_reply": "2021-06-03T13:11:14.675326Z",
     "shell.execute_reply.started": "2021-06-03T13:11:14.649193Z"
    }
   },
   "outputs": [],
   "source": [
    "Hybrid_Features1.shape[1]  #Features count"
   ]
  },
  {
   "cell_type": "markdown",
   "metadata": {},
   "source": [
    "### Split th data into 70% training and 30% testing"
   ]
  },
  {
   "cell_type": "code",
   "execution_count": null,
   "metadata": {},
   "outputs": [],
   "source": [
    "X= MinMaxScaler().fit_transform(X)\n",
    "X_train, X_test, y_train, y_test = train_test_split(X, y, test_size=0.30, random_state=5)"
   ]
  },
  {
   "cell_type": "markdown",
   "metadata": {
    "papermill": {
     "duration": 0.087869,
     "end_time": "2021-01-06T14:47:23.137660",
     "exception": false,
     "start_time": "2021-01-06T14:47:23.049791",
     "status": "completed"
    },
    "tags": []
   },
   "source": [
    "# Model Building"
   ]
  },
  {
   "cell_type": "markdown",
   "metadata": {},
   "source": [
    "# Implementing CNN Model"
   ]
  },
  {
   "cell_type": "code",
   "execution_count": null,
   "metadata": {},
   "outputs": [],
   "source": [
    "CNN_Model = Sequential()\n",
    "CNN_Model.add(Embedding(100, 50, input_length=14))\n",
    "\n",
    "CNN_Model.add(Conv1D(256, 3, padding='valid', activation='relu', strides=2,))\n",
    "CNN_Model.add(GlobalMaxPooling1D())\n",
    "CNN_Model.add(Dense(1, activation='sigmoid'))\n",
    "\n",
    "CNN_Model.compile(loss='binary_crossentropy',  optimizer='rmsprop', metrics=['accuracy'])\n",
    "CNN_Model.summary()"
   ]
  },
  {
   "cell_type": "markdown",
   "metadata": {},
   "source": [
    "# Training and validating "
   ]
  },
  {
   "cell_type": "code",
   "execution_count": null,
   "metadata": {},
   "outputs": [],
   "source": [
    "CNN_Model.fit(X_train, y_train, batch_size=100, epochs=200, validation_split=0.2, verbose=False)"
   ]
  },
  {
   "cell_type": "markdown",
   "metadata": {},
   "source": [
    "# Testing the Trained CNN_Model with test data"
   ]
  },
  {
   "cell_type": "code",
   "execution_count": null,
   "metadata": {},
   "outputs": [],
   "source": [
    "accr = CNN_Model.evaluate(X_test,y_test, verbose=False)"
   ]
  },
  {
   "cell_type": "code",
   "execution_count": null,
   "metadata": {},
   "outputs": [],
   "source": [
    "y_pred = CNN_Model.predict(X_test)\n",
    "y_pred = (y_pred > 0.5)\n",
    "cnn_model_acc=accr[1]\n",
    "print('Accuracy: {:0.2f}'.format(cnn_model_acc))"
   ]
  },
  {
   "cell_type": "code",
   "execution_count": null,
   "metadata": {},
   "outputs": [],
   "source": [
    "cnn_model_f1=f1_score(y_test, y_pred, average='weighted')\n",
    "print('F1',round(cnn_model_f1,2),'%')"
   ]
  },
  {
   "cell_type": "markdown",
   "metadata": {},
   "source": [
    "# Implementing CRF Model"
   ]
  },
  {
   "cell_type": "code",
   "execution_count": null,
   "metadata": {},
   "outputs": [],
   "source": [
    "x_train=X_train.reshape(X_train.shape[0],X_train.shape[1],1)\n",
    "x_test=X_test.reshape(X_test.shape[0],X_test.shape[1],1)\n",
    "crf_model=Sequential()\n",
    "crf_model.add(Conv1D(filters=32, kernel_size=2, activation='relu', input_shape=x_train[0].shape))\n",
    "crf_model.add(BatchNormalization())\n",
    "crf_model.add(Dropout(0.5))\n",
    "crf_model.add(Conv1D(filters=64, kernel_size=2, activation='relu'))\n",
    "crf_model.add(BatchNormalization())\n",
    "crf_model.add(Dropout(0.5))\n",
    "crf_model.add(Flatten())\n",
    "crf_model.add(Dense(64, activation='relu'))\n",
    "crf_model.add(Dropout(0.5))\n",
    "crf_model.add(Dense(1, activation='relu'))\n",
    "crf_model.compile(optimizer='adam', loss='binary_crossentropy', metrics=['accuracy'])\n",
    "crf_model.summary()"
   ]
  },
  {
   "cell_type": "markdown",
   "metadata": {},
   "source": [
    "# Training and validating "
   ]
  },
  {
   "cell_type": "code",
   "execution_count": null,
   "metadata": {},
   "outputs": [],
   "source": [
    "crf_model.fit(x_train,y_train,epochs=20,validation_data=(x_test,y_test), verbose=False)"
   ]
  },
  {
   "cell_type": "markdown",
   "metadata": {},
   "source": [
    "# Testing the Trained crf_model with test data"
   ]
  },
  {
   "cell_type": "code",
   "execution_count": null,
   "metadata": {},
   "outputs": [],
   "source": [
    "accr = crf_model.evaluate(x_test,y_test, verbose=False)"
   ]
  },
  {
   "cell_type": "code",
   "execution_count": null,
   "metadata": {},
   "outputs": [],
   "source": [
    "y_pred = crf_model.predict(x_test)\n",
    "y_pred = (y_pred > 0.5)\n",
    "crf_model_acc=accr[1]\n",
    "print('Accuracy: {:0.4f}'.format(crf_model_acc))"
   ]
  },
  {
   "cell_type": "code",
   "execution_count": null,
   "metadata": {},
   "outputs": [],
   "source": [
    "crf_model_f1=f1_score(y_test, y_pred, average='micro')\n",
    "print('F1',round(crf_model_f1,3),'%')"
   ]
  },
  {
   "cell_type": "markdown",
   "metadata": {},
   "source": [
    "# Implementing LSTM Model"
   ]
  },
  {
   "cell_type": "code",
   "execution_count": null,
   "metadata": {},
   "outputs": [],
   "source": [
    "def LSTM_Model():\n",
    "    inputs = Input(name='inputs',shape=[14])\n",
    "    layer = Embedding(10,50,input_length=14)(inputs)\n",
    "    layer = LSTM(100)(layer)\n",
    "    layer = Dense(16,name='FC1')(layer)\n",
    "    layer = Activation('relu')(layer)\n",
    "    layer = Dropout(0.1)(layer)\n",
    "    layer = Dense(1,name='out_layer')(layer)\n",
    "    layer = Activation('relu')(layer)\n",
    "    model = Model(inputs=inputs,outputs=layer)\n",
    "    return model"
   ]
  },
  {
   "cell_type": "code",
   "execution_count": null,
   "metadata": {},
   "outputs": [],
   "source": [
    "model = LSTM_Model()\n",
    "model.summary()\n",
    "model.compile(loss='binary_crossentropy',optimizer='rmsprop',metrics=['accuracy'])"
   ]
  },
  {
   "cell_type": "markdown",
   "metadata": {},
   "source": [
    "# Training and validating "
   ]
  },
  {
   "cell_type": "code",
   "execution_count": null,
   "metadata": {},
   "outputs": [],
   "source": [
    "history=model.fit(X_train,y_train,batch_size=80,epochs=10,\n",
    "          validation_split=0.1, verbose=False)"
   ]
  },
  {
   "cell_type": "markdown",
   "metadata": {},
   "source": [
    "# Testing the Trained model with test data"
   ]
  },
  {
   "cell_type": "code",
   "execution_count": null,
   "metadata": {},
   "outputs": [],
   "source": [
    "accr = model.evaluate(X_test,y_test, verbose=False)"
   ]
  },
  {
   "cell_type": "code",
   "execution_count": null,
   "metadata": {},
   "outputs": [],
   "source": [
    "y_pred = model.predict(X_test)\n",
    "y_pred = (y_pred > 0.5)\n",
    "lstm_model_acc=accr[1]\n",
    "print('Accuracy: {:0.4f}'.format(lstm_model_acc))"
   ]
  },
  {
   "cell_type": "code",
   "execution_count": null,
   "metadata": {},
   "outputs": [],
   "source": [
    "lstm_model_f1=f1_score(y_test, y_pred, average='micro')\n",
    "print('F1',round(lstm_model_f1,4),'%')"
   ]
  },
  {
   "cell_type": "markdown",
   "metadata": {},
   "source": [
    "# Comparison of all Model on F1"
   ]
  },
  {
   "cell_type": "code",
   "execution_count": null,
   "metadata": {},
   "outputs": [],
   "source": [
    "x = PrettyTable()\n",
    "print('\\n')\n",
    "x.field_names = [\"Model\", \"F1\"]\n",
    "x.add_row([\"CNN Model\", round(cnn_model_f1,2)])\n",
    "x.add_row([\"CNN CRF Model\", round(crf_model_f1,3)])\n",
    "x.add_row([\"CNN LSTM Model\", round(lstm_model_f1,4)])\n",
    "\n",
    "print(x)\n",
    "print('\\n')"
   ]
  },
  {
   "cell_type": "markdown",
   "metadata": {},
   "source": [
    "# Comparison of all Model on Accuracy"
   ]
  },
  {
   "cell_type": "code",
   "execution_count": null,
   "metadata": {},
   "outputs": [],
   "source": [
    "x = PrettyTable()\n",
    "print('\\n')\n",
    "x.field_names = [\"Model\", \"Accuracy\"]\n",
    "x.add_row([\"CNN Model\", round(cnn_model_acc,2)])\n",
    "x.add_row([\"CNN CRF Model\", round(crf_model_acc,3)])\n",
    "x.add_row([\"CNN LSTM Model\", round(lstm_model_acc,4)])\n",
    "\n",
    "print(x)\n",
    "print('\\n')"
   ]
  }
 ],
 "metadata": {
  "interpreter": {
   "hash": "3662129803c6874b370dff2546488e98c3f02ef4ff9df402e286e10b9846378b"
  },
  "kernelspec": {
   "display_name": "Python 3.9.7 64-bit (windows store)",
   "name": "python3"
  },
  "language_info": {
   "codemirror_mode": {
    "name": "ipython",
    "version": 3
   },
   "file_extension": ".py",
   "mimetype": "text/x-python",
   "name": "python",
   "nbconvert_exporter": "python",
   "pygments_lexer": "ipython3",
   "version": "3.9.7"
  }
 },
 "nbformat": 4,
 "nbformat_minor": 2
}
