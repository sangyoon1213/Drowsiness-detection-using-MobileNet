{
 "cells": [
  {
   "cell_type": "code",
   "execution_count": null,
   "metadata": {},
   "outputs": [],
   "source": [
    "import numpy as np\n",
    "import pandas as pd\n",
    "from matplotlib import pyplot as plt\n",
    "\n",
    "from tensorflow import keras\n",
    "from tensorflow.keras import applications\n",
    "\n",
    "from sklearn import preprocessing\n",
    "from sklearn.model_selection import train_test_split\n",
    "from sklearn.metrics import accuracy_score, f1_score, roc_auc_score"
   ]
  },
  {
   "cell_type": "code",
   "execution_count": null,
   "metadata": {},
   "outputs": [],
   "source": [
    "filename = 'eeg-eye-state_csv.csv'\n",
    "df = pd.read_csv(filename)\n",
    "print(df.shape)\n",
    "df.head()"
   ]
  },
  {
   "cell_type": "code",
   "execution_count": null,
   "metadata": {},
   "outputs": [],
   "source": [
    "plt.plot(df.Class)"
   ]
  },
  {
   "cell_type": "code",
   "execution_count": null,
   "metadata": {},
   "outputs": [],
   "source": [
    "total_duration = 117 #s\n",
    "sampling_rate = df.shape[0] / total_duration\n",
    "sampling_rate"
   ]
  },
  {
   "cell_type": "code",
   "execution_count": null,
   "metadata": {},
   "outputs": [],
   "source": [
    "df.Class.value_counts()"
   ]
  },
  {
   "cell_type": "code",
   "execution_count": null,
   "metadata": {},
   "outputs": [],
   "source": [
    "def window_distribute(_df, window_size=10):\n",
    "    grp = _df.Class.groupby(_df.Class.diff().ne(0).cumsum())\n",
    "\n",
    "    indices = pd.Index([], dtype=pd.Int64Dtype)\n",
    "    for g in grp.groups.values():\n",
    "        chunk_size = int(g.size / window_size) * window_size\n",
    "        indices = indices.append( g[:chunk_size] )\n",
    "    \n",
    "    return _df.iloc[indices]"
   ]
  },
  {
   "cell_type": "code",
   "execution_count": null,
   "metadata": {},
   "outputs": [],
   "source": [
    "def generate_sequence(_df):\n",
    "    X = []\n",
    "    y = []\n",
    "    for start in range(0, df_w.shape[0], window_size):\n",
    "        _df = df_w.iloc[start:(start+window_size)]\n",
    "        y += _df.iloc[:1].Class.tolist()\n",
    "        X += [ _df.drop(columns=['Class']).values ]\n",
    "\n",
    "    y = np.array(y) - 1 # To use 0 and 1 classes\n",
    "    X = np.array(X)\n",
    "\n",
    "    return X, y"
   ]
  },
  {
   "cell_type": "code",
   "execution_count": null,
   "metadata": {},
   "outputs": [],
   "source": [
    "window_size = 14 # Use 1 for simpler models\n",
    "df_w = window_distribute(df, window_size)\n",
    "df_w"
   ]
  },
  {
   "cell_type": "code",
   "execution_count": null,
   "metadata": {},
   "outputs": [],
   "source": [
    "X, y = generate_sequence(df_w)\n",
    "X.shape, y.shape"
   ]
  },
  {
   "cell_type": "code",
   "execution_count": null,
   "metadata": {},
   "outputs": [],
   "source": [
    "scaler = preprocessing.StandardScaler() # MinMaxScaler gave terrible results\n",
    "\n",
    "# Scale and reshape\n",
    "shape = X.shape\n",
    "X_res = X.reshape(X.shape[0], -1)\n",
    "X_sc = scaler.fit_transform(X_res)\n",
    "X_sc = X_sc.reshape(shape)\n",
    "\n",
    "# Pad the edges with 0\n",
    "pad_size = (32 - window_size) // 2 # Use 0 padding for simpler models\n",
    "pad_sizes = (pad_size, pad_size)\n",
    "X_pad = np.pad(X_sc, ((0, 0), pad_sizes, pad_sizes), constant_values=1)\n",
    "\n",
    "# Repeat the last dimension for 3 channels\n",
    "X_rep = np.repeat(X_pad[..., np.newaxis], 3, axis=-1)\n",
    "X_rep.shape"
   ]
  },
  {
   "cell_type": "code",
   "execution_count": null,
   "metadata": {},
   "outputs": [],
   "source": [
    "X_train, X_test, y_train, y_test = train_test_split(X_rep, y, shuffle=True, test_size=0.25)\n",
    "print(X_train.shape, X_test.shape)"
   ]
  },
  {
   "cell_type": "code",
   "execution_count": null,
   "metadata": {},
   "outputs": [],
   "source": [
    "def show_samples(X, y, label):\n",
    "    fig, axes = plt.subplots(1, 5, figsize=(24, 24))\n",
    "    sample_indices = np.where(y == label)[0][:5]\n",
    "    for i, idx in enumerate(sample_indices):\n",
    "        axes[i].imshow(X[idx],)\n",
    "    \n",
    "    plt.show()"
   ]
  },
  {
   "cell_type": "code",
   "execution_count": null,
   "metadata": {},
   "outputs": [],
   "source": [
    "show_samples(X_sc, y, 0)"
   ]
  },
  {
   "cell_type": "code",
   "execution_count": null,
   "metadata": {},
   "outputs": [],
   "source": [
    "show_samples(X_sc, y, 1)"
   ]
  },
  {
   "cell_type": "code",
   "execution_count": null,
   "metadata": {},
   "outputs": [],
   "source": [
    "show_samples(X_train, y_train, 0)"
   ]
  },
  {
   "cell_type": "code",
   "execution_count": null,
   "metadata": {},
   "outputs": [],
   "source": [
    "show_samples(X_train, y_train, 1)"
   ]
  },
  {
   "cell_type": "code",
   "execution_count": null,
   "metadata": {},
   "outputs": [],
   "source": []
  },
  {
   "cell_type": "code",
   "execution_count": null,
   "metadata": {},
   "outputs": [],
   "source": [
    "def report_metrics(model, X_, y_):\n",
    "    y_pred = model.predict(X_)\n",
    "    \n",
    "    if hasattr(model, 'predict_proba'):\n",
    "        y_proba = model.predict_proba(X_)\n",
    "    else:\n",
    "        y_proba = y_pred\n",
    "        y_pred = y_pred >= 0.5\n",
    "\n",
    "    acc = accuracy_score(y_, y_pred)\n",
    "    f1 = f1_score(y_, y_pred)\n",
    "    roc_auc = roc_auc_score(y_, y_proba[:, -1])\n",
    "\n",
    "    print('Accuracy:', acc)\n",
    "    print('F1:', f1)\n",
    "    print('ROC AUC:', roc_auc)"
   ]
  },
  {
   "cell_type": "code",
   "execution_count": null,
   "metadata": {},
   "outputs": [],
   "source": [
    "# Network\n",
    "def build_model(input_shape, freeze_weight=False, weights='imagenet'):\n",
    "    inputs = keras.layers.Input(input_shape)\n",
    "\n",
    "    base_model = applications.MobileNetV3Large(include_top=False, input_tensor=inputs, weights=weights)\n",
    "\n",
    "    if freeze_weight and (weights is not None):\n",
    "        print('Pre-trained will be frozen!')\n",
    "        for layer in base_model.layers:\n",
    "            layer.trainable=False\n",
    "\n",
    "    pooling = keras.layers.GlobalAveragePooling2D() (base_model.output)\n",
    "    outputs = keras.layers.Dense(1, activation='sigmoid') (pooling)\n",
    "\n",
    "    model = keras.Model(inputs=base_model.input, outputs=outputs)\n",
    "    return model"
   ]
  },
  {
   "cell_type": "code",
   "execution_count": null,
   "metadata": {},
   "outputs": [],
   "source": [
    "model = build_model(input_shape=X_train.shape[1:], freeze_weight=True)\n",
    "model.summary()\n",
    "\n",
    "opt = keras.optimizers.Adam(learning_rate=1e-4)\n",
    "model.compile(optimizer=opt, loss=['binary_crossentropy'], metrics=['accuracy'])"
   ]
  },
  {
   "cell_type": "code",
   "execution_count": null,
   "metadata": {},
   "outputs": [],
   "source": [
    "epochs = 5000\n",
    "h = model.fit(X_train, y_train, epochs=epochs, \n",
    "            validation_split=0.3)"
   ]
  },
  {
   "cell_type": "code",
   "execution_count": null,
   "metadata": {},
   "outputs": [],
   "source": [
    "plt.plot(h.history['accuracy'], label='Train Acc')\n",
    "plt.plot(h.history['val_accuracy'], label='Val Acc')"
   ]
  },
  {
   "cell_type": "code",
   "execution_count": null,
   "metadata": {},
   "outputs": [],
   "source": [
    "plt.plot(h.history['accuracy'], label='Train Acc')\n",
    "plt.plot(h.history['val_accuracy'], label='Val Acc')"
   ]
  },
  {
   "cell_type": "code",
   "execution_count": null,
   "metadata": {},
   "outputs": [],
   "source": [
    "plt.plot(h.history['accuracy'], label='Train Acc')\n",
    "plt.plot(h.history['val_accuracy'], label='Val Acc')"
   ]
  },
  {
   "cell_type": "code",
   "execution_count": null,
   "metadata": {},
   "outputs": [],
   "source": [
    "report_metrics(model, X_train, y_train)"
   ]
  },
  {
   "cell_type": "code",
   "execution_count": null,
   "metadata": {},
   "outputs": [],
   "source": [
    "report_metrics(model, X_test, y_test)"
   ]
  },
  {
   "cell_type": "code",
   "execution_count": null,
   "metadata": {},
   "outputs": [],
   "source": []
  },
  {
   "cell_type": "markdown",
   "metadata": {},
   "source": [
    "### Simpler Models"
   ]
  },
  {
   "cell_type": "code",
   "execution_count": null,
   "metadata": {},
   "outputs": [],
   "source": [
    "model_ = keras.Sequential()\n",
    "model_.add( keras.layers.Dense(64, input_shape=(14, ), activation='relu') )\n",
    "# model_.add( keras.layers.Dense(32, activation='relu') )\n",
    "model_.add( keras.layers.Dense(1, activation='sigmoid') )\n",
    "\n",
    "model_.summary()"
   ]
  },
  {
   "cell_type": "code",
   "execution_count": null,
   "metadata": {},
   "outputs": [],
   "source": [
    "opt = keras.optimizers.Adam(learning_rate=1e-3)\n",
    "model_.compile(optimizer=opt, loss=['binary_crossentropy'], metrics=['accuracy'])"
   ]
  },
  {
   "cell_type": "code",
   "execution_count": null,
   "metadata": {},
   "outputs": [],
   "source": [
    "X_train[:, 0, :, 0].shape"
   ]
  },
  {
   "cell_type": "code",
   "execution_count": null,
   "metadata": {},
   "outputs": [],
   "source": [
    "h = model_.fit(X_train[:, 0, :, 0], y_train, epochs=100, validation_split=0.3, shuffle=True)"
   ]
  },
  {
   "cell_type": "code",
   "execution_count": null,
   "metadata": {},
   "outputs": [],
   "source": [
    "plt.plot(h.history['accuracy'], label='Train Acc')\n",
    "plt.plot(h.history['val_accuracy'], label='Val Acc')"
   ]
  },
  {
   "cell_type": "code",
   "execution_count": null,
   "metadata": {},
   "outputs": [],
   "source": [
    "report_metrics(model_, X_train[:, 0, :, 0], y_train)"
   ]
  },
  {
   "cell_type": "code",
   "execution_count": null,
   "metadata": {},
   "outputs": [],
   "source": [
    "report_metrics(model_, X_test[:, 0, :, 0], y_test)"
   ]
  },
  {
   "cell_type": "code",
   "execution_count": null,
   "metadata": {},
   "outputs": [],
   "source": []
  },
  {
   "cell_type": "code",
   "execution_count": null,
   "metadata": {},
   "outputs": [],
   "source": []
  },
  {
   "cell_type": "code",
   "execution_count": null,
   "metadata": {},
   "outputs": [],
   "source": [
    "from sklearn.ensemble import RandomForestClassifier"
   ]
  },
  {
   "cell_type": "code",
   "execution_count": null,
   "metadata": {},
   "outputs": [],
   "source": [
    "clf = RandomForestClassifier(random_state=32)"
   ]
  },
  {
   "cell_type": "code",
   "execution_count": null,
   "metadata": {},
   "outputs": [],
   "source": [
    "clf.fit(X_train[:, 0, :, 0], y_train)"
   ]
  },
  {
   "cell_type": "code",
   "execution_count": null,
   "metadata": {},
   "outputs": [],
   "source": [
    "report_metrics(clf, X_train[:, 0, :, 0], y_train)"
   ]
  },
  {
   "cell_type": "code",
   "execution_count": null,
   "metadata": {},
   "outputs": [],
   "source": [
    "report_metrics(clf, X_test[:, 0, :, 0], y_test)"
   ]
  },
  {
   "cell_type": "code",
   "execution_count": null,
   "metadata": {},
   "outputs": [],
   "source": []
  },
  {
   "cell_type": "code",
   "execution_count": null,
   "metadata": {},
   "outputs": [],
   "source": []
  },
  {
   "cell_type": "code",
   "execution_count": null,
   "metadata": {},
   "outputs": [],
   "source": []
  },
  {
   "cell_type": "code",
   "execution_count": null,
   "metadata": {},
   "outputs": [],
   "source": []
  }
 ],
 "metadata": {
  "interpreter": {
   "hash": "09ffedce89e777caa5ea8e850fec55c98c8e9d4c109b75b991f514b22f98793e"
  },
  "kernelspec": {
   "display_name": "Python 3.9.2 64-bit",
   "language": "python",
   "name": "python3"
  },
  "language_info": {
   "codemirror_mode": {
    "name": "ipython",
    "version": 3
   },
   "file_extension": ".py",
   "mimetype": "text/x-python",
   "name": "python",
   "nbconvert_exporter": "python",
   "pygments_lexer": "ipython3",
   "version": "3.9.2"
  },
  "orig_nbformat": 4
 },
 "nbformat": 4,
 "nbformat_minor": 2
}
